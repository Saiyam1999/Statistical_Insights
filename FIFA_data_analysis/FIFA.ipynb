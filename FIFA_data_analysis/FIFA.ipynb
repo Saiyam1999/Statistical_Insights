{
  "nbformat": 4,
  "nbformat_minor": 0,
  "metadata": {
    "colab": {
      "name": "FIFA.ipynb",
      "provenance": []
    },
    "kernelspec": {
      "name": "python3",
      "display_name": "Python 3"
    }
  },
  "cells": [
    {
      "cell_type": "markdown",
      "metadata": {
        "id": "xjJXADErtodN",
        "colab_type": "text"
      },
      "source": [
        "Importing Required Libraries and Dataset"
      ]
    },
    {
      "cell_type": "code",
      "metadata": {
        "id": "LGzmqI3eKl56",
        "colab_type": "code",
        "colab": {
          "base_uri": "https://localhost:8080/",
          "height": 70
        },
        "outputId": "13480cc4-9638-4d2f-bd61-05bd063f0df4"
      },
      "source": [
        "import numpy as np\n",
        "import matplotlib.pyplot as plt\n",
        "import pandas as pd\n",
        "import seaborn as sns\n",
        "df= pd.read_csv('/content/drive/My Drive/data.csv')\n",
        "df.head()\n",
        "df.columns"
      ],
      "execution_count": 2,
      "outputs": [
        {
          "output_type": "stream",
          "text": [
            "/usr/local/lib/python3.6/dist-packages/statsmodels/tools/_testing.py:19: FutureWarning: pandas.util.testing is deprecated. Use the functions in the public API at pandas.testing instead.\n",
            "  import pandas.util.testing as tm\n"
          ],
          "name": "stderr"
        }
      ]
    },
    {
      "cell_type": "markdown",
      "metadata": {
        "id": "tB_2rHUHts4r",
        "colab_type": "text"
      },
      "source": [
        "Making a DataFrame as per the required column needs"
      ]
    },
    {
      "cell_type": "code",
      "metadata": {
        "id": "OigK8zCiJ303",
        "colab_type": "code",
        "colab": {}
      },
      "source": [
        "df=df[['Name', 'Age','Club','Crossing', 'Finishing', 'HeadingAccuracy', 'ShortPassing', 'Volleys', 'Dribbling',\n",
        "       'Curve', 'FKAccuracy', 'LongPassing', 'BallControl', 'Acceleration',\n",
        "       'SprintSpeed', 'Agility', 'Reactions', 'Balance', 'ShotPower',\n",
        "       'Jumping', 'Stamina', 'Strength', 'LongShots', 'Aggression',\n",
        "       'Interceptions', 'Positioning', 'Vision', 'Penalties', 'Composure',\n",
        "       'Marking', 'StandingTackle', 'SlidingTackle', 'GKDiving', 'GKHandling',\n",
        "       'GKKicking', 'GKPositioning', 'GKReflexes', 'Release Clause']]"
      ],
      "execution_count": 5,
      "outputs": []
    },
    {
      "cell_type": "markdown",
      "metadata": {
        "id": "GQbEVarut1dx",
        "colab_type": "text"
      },
      "source": [
        "Selecting three favourite clubs for analysis"
      ]
    },
    {
      "cell_type": "code",
      "metadata": {
        "id": "tfuhYwVhLOLM",
        "colab_type": "code",
        "colab": {}
      },
      "source": [
        "clubs=['FC Barcelona', 'Juventus', 'Manchester City']\n",
        "b= df[df['Club']== clubs[0]]\n",
        "j= df[df['Club']== clubs[1]]\n",
        "m= df[df['Club']== clubs[2]]"
      ],
      "execution_count": 8,
      "outputs": []
    },
    {
      "cell_type": "markdown",
      "metadata": {
        "id": "OXzxK6xft6_x",
        "colab_type": "text"
      },
      "source": [
        "Creating a column from pre-decided class weights for Attacking"
      ]
    },
    {
      "cell_type": "code",
      "metadata": {
        "id": "5rc1QhkI_Odj",
        "colab_type": "code",
        "colab": {}
      },
      "source": [
        "b['Attacking']= (b['Finishing'] *5 + b['Crossing'] * 2 + b['HeadingAccuracy']* 3)/10\n",
        "j['Attacking']= (j['Finishing'] *5 + j['Crossing'] * 2 + j['HeadingAccuracy']* 3)/10\n",
        "m['Attacking']= (m['Finishing'] *5 + m['Crossing'] * 2 + m['HeadingAccuracy']* 3)/10"
      ],
      "execution_count": null,
      "outputs": []
    },
    {
      "cell_type": "markdown",
      "metadata": {
        "id": "2CZs-otXuE7d",
        "colab_type": "text"
      },
      "source": [
        "Creating a column from pre-decided class weights for Defense"
      ]
    },
    {
      "cell_type": "code",
      "metadata": {
        "id": "d8xGBm6-T1zn",
        "colab_type": "code",
        "colab": {}
      },
      "source": [
        "b['Defense']= (b['LongPassing'] *5 + b['Marking'] * 2 + b['StandingTackle']* 3)/10\n",
        "j['Defense']= (j['LongPassing'] *5 + j['Marking'] * 2 + j['StandingTackle']* 3)/10\n",
        "m['Defense']= (m['LongPassing'] *5 + m['Marking'] * 2 + m['StandingTackle']* 3)/10"
      ],
      "execution_count": null,
      "outputs": []
    },
    {
      "cell_type": "markdown",
      "metadata": {
        "id": "zWAtn6FZuMf8",
        "colab_type": "text"
      },
      "source": [
        "Attacking histogram"
      ]
    },
    {
      "cell_type": "code",
      "metadata": {
        "id": "VRjb-Fe6U4T4",
        "colab_type": "code",
        "colab": {
          "base_uri": "https://localhost:8080/",
          "height": 296
        },
        "outputId": "fa25ced5-412d-4ca9-d730-a4cae217e0c9"
      },
      "source": [
        "plt.hist(df[df['Attacking']>20]['Attacking'],bins=60)\n",
        "plt.xlabel('Attacking score')\n",
        "plt.ylabel('Players')"
      ],
      "execution_count": 115,
      "outputs": [
        {
          "output_type": "execute_result",
          "data": {
            "text/plain": [
              "Text(0, 0.5, 'Players')"
            ]
          },
          "metadata": {
            "tags": []
          },
          "execution_count": 115
        },
        {
          "output_type": "display_data",
          "data": {
            "image/png": "[encoded data removed]",
            "text/plain": [
              "<Figure size 432x288 with 1 Axes>"
            ]
          },
          "metadata": {
            "tags": [],
            "needs_background": "light"
          }
        }
      ]
    },
    {
      "cell_type": "markdown",
      "metadata": {
        "id": "JLkzra_QuPiM",
        "colab_type": "text"
      },
      "source": [
        "Defense Histogram"
      ]
    },
    {
      "cell_type": "code",
      "metadata": {
        "id": "OantYfhZWKCy",
        "colab_type": "code",
        "colab": {
          "base_uri": "https://localhost:8080/",
          "height": 296
        },
        "outputId": "02abe9db-7fbf-439f-a55a-f219869d63ae"
      },
      "source": [
        "plt.hist(df[df['Defense']>30]['Defense'],bins=50)\n",
        "plt.xlabel('Defense score')\n",
        "plt.ylabel('Players')"
      ],
      "execution_count": 119,
      "outputs": [
        {
          "output_type": "execute_result",
          "data": {
            "text/plain": [
              "Text(0, 0.5, 'Players')"
            ]
          },
          "metadata": {
            "tags": []
          },
          "execution_count": 119
        },
        {
          "output_type": "display_data",
          "data": {
            "image/png": "[encoded data removed]",
            "text/plain": [
              "<Figure size 432x288 with 1 Axes>"
            ]
          },
          "metadata": {
            "tags": [],
            "needs_background": "light"
          }
        }
      ]
    },
    {
      "cell_type": "markdown",
      "metadata": {
        "id": "zBLfQSoXuVTb",
        "colab_type": "text"
      },
      "source": [
        "Gettting required Means and Standard Deviations "
      ]
    },
    {
      "cell_type": "code",
      "metadata": {
        "id": "X1575gDdcxcb",
        "colab_type": "code",
        "colab": {}
      },
      "source": [
        "mean_all_def=df['Defense'].mean()\n",
        "std_all_def=df['Defense'].std()\n",
        "\n",
        "mean_all_a=df['Attacking'].mean()\n",
        "std_all_a=df['Attacking'].std()\n",
        "mean_b_def= b['Defense'].mean()\n",
        "std_b_def= b['Defense'].std()\n",
        "mean_b_a= b['Attacking'].mean()\n",
        "std_b_a= b['Attacking'].std()\n",
        "\n",
        "mean_j_def= j['Defense'].mean()\n",
        "std_j_def= j['Defense'].std()\n",
        "mean_j_a= j['Attacking'].mean()\n",
        "std_j_a= j['Attacking'].std()\n",
        "\n",
        "mean_m_def= m['Defense'].mean()\n",
        "std_m_def= m['Defense'].std()\n",
        "mean_m_a= m['Attacking'].mean()\n",
        "std_m_a= m['Attacking'].std()\n",
        "\n",
        "mean_rc_j=j['Release Clause'].mean()\n",
        "mean_rc_b=b['Release Clause'].mean()\n",
        "mean_rc_m=m['Release Clause'].mean()\n",
        "\n",
        "std_rc_j=j['Release Clause'].std()\n",
        "std_rc_b=b['Release Clause'].std()\n",
        "std_rc_m=m['Release Clause'].std()\n",
        "\n",
        "mean_rc_all=df['Release Clause'].mean()\n",
        "std_rc_all=df['Release Clause'].std()"
      ],
      "execution_count": 193,
      "outputs": []
    },
    {
      "cell_type": "markdown",
      "metadata": {
        "id": "zEPqi0fuubdF",
        "colab_type": "text"
      },
      "source": [
        "The values for top confidence intervals"
      ]
    },
    {
      "cell_type": "code",
      "metadata": {
        "id": "DF7veMzkdZ6s",
        "colab_type": "code",
        "colab": {
          "base_uri": "https://localhost:8080/",
          "height": 84
        },
        "outputId": "40d3ee0f-0dad-4cda-895b-c7a1c201de66"
      },
      "source": [
        "print('The top 2.5% of attackers have score:      ' + str(mean_all_a + 1.96*std_all_a))\n",
        "print('The top 5% of attackers have score:      ' + str(mean_all_a + 1.645*std_all_a))\n",
        "\n",
        "print('The top 2.5% of defenders have score:        ' + str(mean_all_def + 1.96*std_all_def))\n",
        "print('The top 5% of defenders have score:        ' + str(mean_all_def + 1.645*std_all_def))\n"
      ],
      "execution_count": 149,
      "outputs": [
        {
          "output_type": "stream",
          "text": [
            "The top 2.5% of attackers have score:      79.35036112978332\n",
            "The top 5% of attackers have score:      74.37808196695025\n",
            "The top 2.5% of defenders have score:        81.60849884471355\n",
            "The top 5% of defenders have score:        76.54811116338827\n"
          ],
          "name": "stdout"
        }
      ]
    },
    {
      "cell_type": "markdown",
      "metadata": {
        "id": "Lm9hhlKbugBu",
        "colab_type": "text"
      },
      "source": [
        "Function for getting list in accordance to confidence scores"
      ]
    },
    {
      "cell_type": "code",
      "metadata": {
        "id": "7pLLFhlLejV2",
        "colab_type": "code",
        "colab": {}
      },
      "source": [
        "def get_names(df1, cls):\n",
        "  if (cls == 'Attacking'):\n",
        "    sc0=79.35\n",
        "    sc1=74.37\n",
        "  if (cls == 'Defense'):\n",
        "    sc1=76.548\n",
        "    sc0=81.60\n",
        "  names0=[]\n",
        "  names1=[]\n",
        "  l= len(df1)\n",
        "  for i in range(0,l):\n",
        "    if(df1.iloc[i][cls] > sc0):\n",
        "      names0.append(df1.iloc[i]['Name'])\n",
        "    if ((df1.iloc[i][cls] < sc0) & (df1.iloc[i][cls] > sc1)):\n",
        "      names1.append(df1.iloc[i]['Name'])\n",
        "  return names0, names1\n"
      ],
      "execution_count": 155,
      "outputs": []
    },
    {
      "cell_type": "markdown",
      "metadata": {
        "id": "WWYgmN1HumH0",
        "colab_type": "text"
      },
      "source": [
        "Getting lists for obtaining top players"
      ]
    },
    {
      "cell_type": "code",
      "metadata": {
        "id": "RdhUQ3Gshhmk",
        "colab_type": "code",
        "colab": {}
      },
      "source": [
        "barca_lista0, barca_lista1= get_names(b, 'Attacking')\n",
        "juventus_lista0, juventus_lista1= get_names(j,'Attacking')\n",
        "mancity_lista0, mancity_lista1= get_names(m, 'Attacking')\n",
        "\n",
        "barca_listd0, barca_listd1= get_names(b, 'Defense')\n",
        "juventus_listd0, juventus_listd1= get_names(j,'Defense')\n",
        "mancity_listd0, mancity_listd1= get_names(m, 'Defense')\n"
      ],
      "execution_count": 160,
      "outputs": []
    },
    {
      "cell_type": "markdown",
      "metadata": {
        "id": "7hYZAUlYutei",
        "colab_type": "text"
      },
      "source": [
        "Priniting names"
      ]
    },
    {
      "cell_type": "code",
      "metadata": {
        "id": "yK3fJ_HFhuca",
        "colab_type": "code",
        "colab": {
          "base_uri": "https://localhost:8080/",
          "height": 437
        },
        "outputId": "73c18653-898b-480e-966c-63608e26d555"
      },
      "source": [
        "print('                     BARCELONA               ')\n",
        "print(' ')\n",
        "print(' ')\n",
        "print('top 2.5% attackers:      ' + str(barca_lista0))\n",
        "print('top 5% attackers:        ' + str(barca_lista1))\n",
        "print('top 2.5% defenders:      ' + str(barca_listd0))\n",
        "print('top 5% defenders:        ' + str(barca_listd1))\n",
        "print(' ')\n",
        "print(' ')\n",
        "print('                     JUVENTUS               ')\n",
        "print(' ')\n",
        "print(' ')\n",
        "print('top 2.5% attackers:      ' + str(juventus_lista0))\n",
        "print('top 5% attackers:        ' + str(juventus_lista1))\n",
        "print('top 2.5% defenders:      ' + str(juventus_listd0))\n",
        "print('top 5% defenders:        ' + str(juventus_listd1))\n",
        "print(' ')\n",
        "print(' ')\n",
        "print('                     MAN_CITY               ')\n",
        "print(' ')\n",
        "print(' ')\n",
        "print('top 2.5% attackers       ' + str(mancity_lista0))\n",
        "print('top 5% attackers:        ' + str(mancity_lista1))\n",
        "print('top 2.5% defenders:      ' + str(mancity_listd0))\n",
        "print('top 5% defenders:        ' + str(mancity_listd1))\n"
      ],
      "execution_count": 169,
      "outputs": [
        {
          "output_type": "stream",
          "text": [
            "                     BARCELONA               \n",
            " \n",
            " \n",
            "top 2.5% attackers:      ['L. Messi', 'L. Suárez']\n",
            "top 5% attackers:        ['Jordi Alba', 'I. Rakitić', 'A. Vidal', 'Munir']\n",
            "top 2.5% defenders:      ['Sergio Busquets', 'Piqué', 'A. Vidal']\n",
            "top 5% defenders:        ['S. Umtiti', 'Jordi Alba', 'Sergi Roberto', 'T. Vermaelen']\n",
            " \n",
            " \n",
            "                     JUVENTUS               \n",
            " \n",
            " \n",
            "top 2.5% attackers:      ['Cristiano Ronaldo', 'M. Mandžukić']\n",
            "top 5% attackers:        ['P. Dybala']\n",
            "top 2.5% defenders:      ['L. Bonucci', 'S. Khedira']\n",
            "top 5% defenders:        ['Alex Sandro', 'M. Pjanić', 'B. Matuidi', 'A. Barzagli', 'João Cancelo', 'E. Can']\n",
            " \n",
            " \n",
            "                     MAN_CITY               \n",
            " \n",
            " \n",
            "top 2.5% attackers       ['S. Agüero']\n",
            "top 5% attackers:        ['K. De Bruyne', 'L. Sané', 'Gabriel Jesus']\n",
            "top 2.5% defenders:      ['Fernandinho', 'A. Laporte']\n",
            "top 5% defenders:        ['N. Otamendi', 'J. Stones', 'F. Delph']\n"
          ],
          "name": "stdout"
        }
      ]
    },
    {
      "cell_type": "markdown",
      "metadata": {
        "id": "Kx8471HjuxLk",
        "colab_type": "text"
      },
      "source": [
        "Type casting and altering the release clause in accordance to the currencies"
      ]
    },
    {
      "cell_type": "code",
      "metadata": {
        "id": "REn9TAuri5ke",
        "colab_type": "code",
        "colab": {}
      },
      "source": [
        "def clr_clause(x):\n",
        "    if(type(x)== str):\n",
        "      if(x[-1]=='M' ):\n",
        "        return float(x[1:-1])\n",
        "      if(x[-1]=='K'):\n",
        "        return float(x[1:-1])/1000"
      ],
      "execution_count": 190,
      "outputs": []
    },
    {
      "cell_type": "markdown",
      "metadata": {
        "id": "TxgAo3_9vAaq",
        "colab_type": "text"
      },
      "source": [
        "Calling function for updating Release Clause"
      ]
    },
    {
      "cell_type": "code",
      "metadata": {
        "id": "zvA6VmNslzUo",
        "colab_type": "code",
        "colab": {}
      },
      "source": [
        "df['Release Clause']=df['Release Clause'].apply(clr_clause)\n",
        "b['Release Clause']=b['Release Clause'].apply(clr_clause)\n",
        "j['Release Clause']=j['Release Clause'].apply(clr_clause)\n",
        "m['Release Clause']=m['Release Clause'].apply(clr_clause)"
      ],
      "execution_count": 191,
      "outputs": []
    },
    {
      "cell_type": "markdown",
      "metadata": {
        "id": "pLByUOJMvFP0",
        "colab_type": "text"
      },
      "source": [
        "Printing the average value of Release Clause"
      ]
    },
    {
      "cell_type": "code",
      "metadata": {
        "id": "EyRi8cearO7q",
        "colab_type": "code",
        "colab": {
          "base_uri": "https://localhost:8080/",
          "height": 118
        },
        "outputId": "ca1ecd92-ca4b-4d60-9b7b-75db52f52733"
      },
      "source": [
        "print('               Release Clause        ')\n",
        "print(' ')\n",
        "print('Average player clause in millions:                '+ str(df['Release Clause'].sum()/len(df)))\n",
        "print('Average player clause in millions Barca:          '+ str(b['Release Clause'].sum()/len(b)))\n",
        "print('Average player clause in millions Juventus:       '+ str(j['Release Clause'].sum()/len(j)))\n",
        "print('Average player clause in millions Man City:       '+ str(m['Release Clause'].sum()/len(m)))"
      ],
      "execution_count": 206,
      "outputs": [
        {
          "output_type": "stream",
          "text": [
            "               Release Clause        \n",
            " \n",
            "Average player clause in millions:                4.191199538638985\n",
            "Average player clause in millions Barca:          54.939393939393945\n",
            "Average player clause in millions Juventus:       47.744\n",
            "Average player clause in millions Man City:       45.84566666666667\n"
          ],
          "name": "stdout"
        }
      ]
    }
  ]
}